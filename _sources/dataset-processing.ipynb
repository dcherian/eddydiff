{
 "cells": [
  {
   "cell_type": "markdown",
   "id": "426cc654-8b1a-480c-82d0-d28468cf58e0",
   "metadata": {},
   "source": [
    "# Dataset processing"
   ]
  },
  {
   "cell_type": "code",
   "execution_count": 1,
   "id": "28835964-8068-4485-9d72-06b88eaed664",
   "metadata": {},
   "outputs": [
    {
     "name": "stdout",
     "output_type": "stream",
     "text": [
      "matplotlib : 3.4.1\n",
      "xarray     : 0.17.1.dev3+g48378c4b1\n",
      "numpy      : 1.20.2\n",
      "distributed: 2021.6.2\n",
      "dcpy       : 0.1\n",
      "cf_xarray  : 0.4.1.dev21+gab9dc66\n",
      "eddydiff   : 0.1\n",
      "\n"
     ]
    }
   ],
   "source": [
    "%load_ext watermark\n",
    "%matplotlib inline\n",
    "\n",
    "import glob\n",
    "\n",
    "import cf_xarray as cfxr\n",
    "import dcpy\n",
    "import distributed\n",
    "import matplotlib as mpl\n",
    "import matplotlib.pyplot as plt\n",
    "import numpy as np\n",
    "from IPython.display import Image\n",
    "\n",
    "import eddydiff as ed\n",
    "import xarray as xr\n",
    "\n",
    "xr.set_options(keep_attrs=True)\n",
    "\n",
    "plt.rcParams[\"figure.dpi\"] = 140\n",
    "plt.rcParams[\"savefig.dpi\"] = 200\n",
    "plt.style.use(\"ggplot\")\n",
    "\n",
    "%watermark -iv"
   ]
  },
  {
   "cell_type": "markdown",
   "id": "a0858c1e-fe88-490c-b606-9175ad7572aa",
   "metadata": {},
   "source": [
    "## Groeskamp et al (2020)"
   ]
  },
  {
   "cell_type": "code",
   "execution_count": 2,
   "id": "4f921893-e496-4445-a276-fb0ae1a3857d",
   "metadata": {},
   "outputs": [],
   "source": [
    "from scipy.io import loadmat"
   ]
  },
  {
   "cell_type": "code",
   "execution_count": 11,
   "id": "d157cbf7-947d-43e0-9708-9009f1afedac",
   "metadata": {},
   "outputs": [],
   "source": [
    "import h5py\n",
    "\n",
    "file = h5py.File(\"/home/deepak/datasets/groeskamp2020/WOA18_K.mat\")"
   ]
  },
  {
   "cell_type": "code",
   "execution_count": 35,
   "id": "c9a935dd-feb5-42d0-86a9-9b408fd20710",
   "metadata": {},
   "outputs": [],
   "source": [
    "file0 = h5py.File(\"/home/deepak/datasets/groeskamp2020/WOA18_K0.mat\")"
   ]
  },
  {
   "cell_type": "code",
   "execution_count": 37,
   "id": "a42b56fd-387e-4ce5-8f5e-ac0fad8d4919",
   "metadata": {},
   "outputs": [
    {
     "data": {
      "text/plain": [
       "<KeysViewHDF5 ['K0_WOA']>"
      ]
     },
     "execution_count": 37,
     "metadata": {},
     "output_type": "execute_result"
    }
   ],
   "source": [
    "file0[\"WOA18_K0\"].keys()"
   ]
  },
  {
   "cell_type": "code",
   "execution_count": 44,
   "id": "111ae326-8654-4bcd-a421-959e406e85a0",
   "metadata": {},
   "outputs": [],
   "source": [
    "ds = xr.Dataset(\n",
    "    coords={\n",
    "        \"depth\": (\n",
    "            \"depth\",\n",
    "            np.array(file[\"WOA18_K\"][\"z\"]).squeeze(),\n",
    "            {\"standard_name\": \"depth\", \"units\": \"m\", \"positive\": \"down\"},\n",
    "        ),\n",
    "        \"lat\": (\n",
    "            \"lat\",\n",
    "            np.array(file[\"WOA18_K\"][\"y\"]).squeeze(),\n",
    "            {\"standard_name\": \"latitude\", \"units\": \"degrees_north\"},\n",
    "        ),\n",
    "        \"lon\": (\n",
    "            \"lon\",\n",
    "            np.array(file[\"WOA18_K\"][\"x\"]).squeeze(),\n",
    "            {\"standard_name\": \"longitude\", \"units\": \"degrees_east\"},\n",
    "        ),\n",
    "    }\n",
    ")\n",
    "\n",
    "ds[\"Ke_0\"] = (\n",
    "    (\"depth\", \"lat\", \"lon\"),\n",
    "    file0[\"WOA18_K0\"][\"K0_WOA\"],\n",
    "    {\"description\": \"unsuppressed diffusivities\", \"long_name\": \"$K_e$\"},\n",
    ")\n",
    "ds[\"Ke\"] = ((\"depth\", \"lat\", \"lon\"), file[\"WOA18_K\"][\"K_WOA\"], {\"long_name\": \"$K_e$\"})\n",
    "ds[\"S\"] = (\n",
    "    (\"depth\", \"lat\", \"lon\"),\n",
    "    file[\"WOA18_K\"][\"S_WOA\"],\n",
    "    {\"long_name\": \"$S$\", \"description\": \"suppression factor\"},\n",
    ")"
   ]
  },
  {
   "cell_type": "code",
   "execution_count": 45,
   "id": "f2c34d5e-129d-459f-863a-67a9f446f052",
   "metadata": {},
   "outputs": [],
   "source": [
    "ds.to_netcdf(\"/home/deepak/datasets/groeskamp2020/groeskamp2020.nc\")"
   ]
  }
 ],
 "metadata": {
  "kernelspec": {
   "display_name": "Python 3 (ipykernel)",
   "language": "python",
   "name": "python3"
  },
  "language_info": {
   "codemirror_mode": {
    "name": "ipython",
    "version": 3
   },
   "file_extension": ".py",
   "mimetype": "text/x-python",
   "name": "python",
   "nbconvert_exporter": "python",
   "pygments_lexer": "ipython3",
   "version": "3.10.6"
  },
  "widgets": {
   "application/vnd.jupyter.widget-state+json": {
    "state": {},
    "version_major": 2,
    "version_minor": 0
   }
  }
 },
 "nbformat": 4,
 "nbformat_minor": 5
}
